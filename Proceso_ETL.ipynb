{
 "cells": [
  {
   "cell_type": "code",
   "execution_count": 3,
   "metadata": {},
   "outputs": [],
   "source": [
    "# Importando librerias\n",
    "import polars as pl\n",
    "from polars import Config "
   ]
  },
  {
   "cell_type": "code",
   "execution_count": 4,
   "metadata": {},
   "outputs": [
    {
     "data": {
      "text/plain": [
       "polars.config.Config"
      ]
     },
     "execution_count": 4,
     "metadata": {},
     "output_type": "execute_result"
    }
   ],
   "source": [
    "# Configurando ancho de columnas de archivos\n",
    "Config.set_fmt_str_lengths(100)"
   ]
  },
  {
   "cell_type": "markdown",
   "metadata": {},
   "source": [
    "#### BASE TICKETS"
   ]
  },
  {
   "cell_type": "markdown",
   "metadata": {},
   "source": [
    "### 1. Importando base \"Tickets Historico.txt\"\n",
    "Incluye las siguientes tareas:\n",
    "- Conversion de campos formato fecha\n",
    "- Cambio de nombre columna Numero de Ticket por TicketID"
   ]
  },
  {
   "cell_type": "code",
   "execution_count": 7,
   "metadata": {},
   "outputs": [
    {
     "data": {
      "text/html": [
       "<div><style>\n",
       ".dataframe > thead > tr,\n",
       ".dataframe > tbody > tr {\n",
       "  text-align: right;\n",
       "  white-space: pre-wrap;\n",
       "}\n",
       "</style>\n",
       "<small>shape: (5, 7)</small><table border=\"1\" class=\"dataframe\"><thead><tr><th>TicketID</th><th>Ubicacion</th><th>Service Desk</th><th>Estado</th><th>Fecha Creacion</th><th>Fecha Termino</th><th>Fecha Cierre</th></tr><tr><td>str</td><td>str</td><td>str</td><td>str</td><td>date</td><td>date</td><td>date</td></tr></thead><tbody><tr><td>&quot;WO0000004122687&quot;</td><td>&quot;AREQUIPA - 215000&quot;</td><td>&quot;Zona Norte&quot;</td><td>&quot;Cerrado&quot;</td><td>2022-06-01</td><td>2022-06-14</td><td>2022-06-14</td></tr><tr><td>&quot;WO0000004122649&quot;</td><td>&quot;METRO AV. WIESSE - 191106&quot;</td><td>&quot;Zona Centro&quot;</td><td>&quot;Cerrado&quot;</td><td>2022-06-01</td><td>2022-06-17</td><td>2022-06-17</td></tr><tr><td>&quot;WO0000004122502&quot;</td><td>&quot;NICOLAS AYLLON - 191027&quot;</td><td>&quot;Zona Centro&quot;</td><td>&quot;Cerrado&quot;</td><td>2022-06-01</td><td>2022-06-08</td><td>2022-06-08</td></tr><tr><td>&quot;WO0000004122513&quot;</td><td>&quot;JAUREGUI - 405005&quot;</td><td>&quot;Zona Norte&quot;</td><td>&quot;Cerrado&quot;</td><td>2022-06-01</td><td>2022-06-18</td><td>2022-06-18</td></tr><tr><td>&quot;WO0000004122741&quot;</td><td>&quot;CANTO GRANDE - 191096&quot;</td><td>&quot;Zona Centro&quot;</td><td>&quot;Cerrado&quot;</td><td>2022-06-01</td><td>2022-06-08</td><td>2022-06-08</td></tr></tbody></table></div>"
      ],
      "text/plain": [
       "shape: (5, 7)\n",
       "┌──────────────┬──────────────┬──────────────┬─────────┬──────────────┬──────────────┬─────────────┐\n",
       "│ TicketID     ┆ Ubicacion    ┆ Service Desk ┆ Estado  ┆ Fecha        ┆ Fecha        ┆ Fecha       │\n",
       "│ ---          ┆ ---          ┆ ---          ┆ ---     ┆ Creacion     ┆ Termino      ┆ Cierre      │\n",
       "│ str          ┆ str          ┆ str          ┆ str     ┆ ---          ┆ ---          ┆ ---         │\n",
       "│              ┆              ┆              ┆         ┆ date         ┆ date         ┆ date        │\n",
       "╞══════════════╪══════════════╪══════════════╪═════════╪══════════════╪══════════════╪═════════════╡\n",
       "│ WO0000004122 ┆ AREQUIPA -   ┆ Zona Norte   ┆ Cerrado ┆ 2022-06-01   ┆ 2022-06-14   ┆ 2022-06-14  │\n",
       "│ 687          ┆ 215000       ┆              ┆         ┆              ┆              ┆             │\n",
       "│ WO0000004122 ┆ METRO AV.    ┆ Zona Centro  ┆ Cerrado ┆ 2022-06-01   ┆ 2022-06-17   ┆ 2022-06-17  │\n",
       "│ 649          ┆ WIESSE -     ┆              ┆         ┆              ┆              ┆             │\n",
       "│              ┆ 191106       ┆              ┆         ┆              ┆              ┆             │\n",
       "│ WO0000004122 ┆ NICOLAS      ┆ Zona Centro  ┆ Cerrado ┆ 2022-06-01   ┆ 2022-06-08   ┆ 2022-06-08  │\n",
       "│ 502          ┆ AYLLON -     ┆              ┆         ┆              ┆              ┆             │\n",
       "│              ┆ 191027       ┆              ┆         ┆              ┆              ┆             │\n",
       "│ WO0000004122 ┆ JAUREGUI -   ┆ Zona Norte   ┆ Cerrado ┆ 2022-06-01   ┆ 2022-06-18   ┆ 2022-06-18  │\n",
       "│ 513          ┆ 405005       ┆              ┆         ┆              ┆              ┆             │\n",
       "│ WO0000004122 ┆ CANTO GRANDE ┆ Zona Centro  ┆ Cerrado ┆ 2022-06-01   ┆ 2022-06-08   ┆ 2022-06-08  │\n",
       "│ 741          ┆ - 191096     ┆              ┆         ┆              ┆              ┆             │\n",
       "└──────────────┴──────────────┴──────────────┴─────────┴──────────────┴──────────────┴─────────────┘"
      ]
     },
     "execution_count": 7,
     "metadata": {},
     "output_type": "execute_result"
    }
   ],
   "source": [
    "# T1. Importando base \"Tickets Historico.txt\"\n",
    "historico = pl.read_csv(\n",
    "    source = './Tickets/Tickets Historico.txt',\n",
    "    separator = ';',\n",
    "    columns = ['Numero Ticket','Ubicacion','Service Desk','Estado','Fecha Creacion','Fecha Termino','Fecha Cierre'],\n",
    "    try_parse_dates = True,\n",
    "    ignore_errors = True\n",
    ")\n",
    "\n",
    "# T2. Renombrando columna 'Numero Ticket' por 'TicketID'\n",
    "historico = historico.rename({\"Numero Ticket\":\"TicketID\"})\n",
    "\n",
    "historico.head()"
   ]
  }
 ],
 "metadata": {
  "kernelspec": {
   "display_name": "vEdcion3",
   "language": "python",
   "name": "vedcion3"
  },
  "language_info": {
   "codemirror_mode": {
    "name": "ipython",
    "version": 3
   },
   "file_extension": ".py",
   "mimetype": "text/x-python",
   "name": "python",
   "nbconvert_exporter": "python",
   "pygments_lexer": "ipython3",
   "version": "3.12.3"
  }
 },
 "nbformat": 4,
 "nbformat_minor": 2
}
