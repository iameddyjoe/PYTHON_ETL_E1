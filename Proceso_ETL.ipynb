{
 "cells": [
  {
   "cell_type": "code",
   "execution_count": 3,
   "metadata": {},
   "outputs": [],
   "source": [
    "# Importando librerias\n",
    "import polars as pl\n",
    "from polars import Config "
   ]
  },
  {
   "cell_type": "code",
   "execution_count": 4,
   "metadata": {},
   "outputs": [
    {
     "data": {
      "text/plain": [
       "polars.config.Config"
      ]
     },
     "execution_count": 4,
     "metadata": {},
     "output_type": "execute_result"
    }
   ],
   "source": [
    "# Configurando ancho de columnas de archivos\n",
    "Config.set_fmt_str_lengths(100)"
   ]
  },
  {
   "cell_type": "markdown",
   "metadata": {},
   "source": [
    "#### BASE TICKETS"
   ]
  },
  {
   "cell_type": "markdown",
   "metadata": {},
   "source": [
    "### 1. Importando base \"Tickets Historico.txt\"\n",
    "Incluye las siguientes tareas:\n",
    "- Importación y conversión de campos formato fecha\n",
    "- Cambio de nombre columna 'Numero Ticket' por 'TicketID'"
   ]
  },
  {
   "cell_type": "code",
   "execution_count": 7,
   "metadata": {},
   "outputs": [
    {
     "data": {
      "text/html": [
       "<div><style>\n",
       ".dataframe > thead > tr,\n",
       ".dataframe > tbody > tr {\n",
       "  text-align: right;\n",
       "  white-space: pre-wrap;\n",
       "}\n",
       "</style>\n",
       "<small>shape: (5, 7)</small><table border=\"1\" class=\"dataframe\"><thead><tr><th>TicketID</th><th>Ubicacion</th><th>Service Desk</th><th>Estado</th><th>Fecha Creacion</th><th>Fecha Termino</th><th>Fecha Cierre</th></tr><tr><td>str</td><td>str</td><td>str</td><td>str</td><td>date</td><td>date</td><td>date</td></tr></thead><tbody><tr><td>&quot;WO0000004122687&quot;</td><td>&quot;AREQUIPA - 215000&quot;</td><td>&quot;Zona Norte&quot;</td><td>&quot;Cerrado&quot;</td><td>2022-06-01</td><td>2022-06-14</td><td>2022-06-14</td></tr><tr><td>&quot;WO0000004122649&quot;</td><td>&quot;METRO AV. WIESSE - 191106&quot;</td><td>&quot;Zona Centro&quot;</td><td>&quot;Cerrado&quot;</td><td>2022-06-01</td><td>2022-06-17</td><td>2022-06-17</td></tr><tr><td>&quot;WO0000004122502&quot;</td><td>&quot;NICOLAS AYLLON - 191027&quot;</td><td>&quot;Zona Centro&quot;</td><td>&quot;Cerrado&quot;</td><td>2022-06-01</td><td>2022-06-08</td><td>2022-06-08</td></tr><tr><td>&quot;WO0000004122513&quot;</td><td>&quot;JAUREGUI - 405005&quot;</td><td>&quot;Zona Norte&quot;</td><td>&quot;Cerrado&quot;</td><td>2022-06-01</td><td>2022-06-18</td><td>2022-06-18</td></tr><tr><td>&quot;WO0000004122741&quot;</td><td>&quot;CANTO GRANDE - 191096&quot;</td><td>&quot;Zona Centro&quot;</td><td>&quot;Cerrado&quot;</td><td>2022-06-01</td><td>2022-06-08</td><td>2022-06-08</td></tr></tbody></table></div>"
      ],
      "text/plain": [
       "shape: (5, 7)\n",
       "┌──────────────┬──────────────┬──────────────┬─────────┬──────────────┬──────────────┬─────────────┐\n",
       "│ TicketID     ┆ Ubicacion    ┆ Service Desk ┆ Estado  ┆ Fecha        ┆ Fecha        ┆ Fecha       │\n",
       "│ ---          ┆ ---          ┆ ---          ┆ ---     ┆ Creacion     ┆ Termino      ┆ Cierre      │\n",
       "│ str          ┆ str          ┆ str          ┆ str     ┆ ---          ┆ ---          ┆ ---         │\n",
       "│              ┆              ┆              ┆         ┆ date         ┆ date         ┆ date        │\n",
       "╞══════════════╪══════════════╪══════════════╪═════════╪══════════════╪══════════════╪═════════════╡\n",
       "│ WO0000004122 ┆ AREQUIPA -   ┆ Zona Norte   ┆ Cerrado ┆ 2022-06-01   ┆ 2022-06-14   ┆ 2022-06-14  │\n",
       "│ 687          ┆ 215000       ┆              ┆         ┆              ┆              ┆             │\n",
       "│ WO0000004122 ┆ METRO AV.    ┆ Zona Centro  ┆ Cerrado ┆ 2022-06-01   ┆ 2022-06-17   ┆ 2022-06-17  │\n",
       "│ 649          ┆ WIESSE -     ┆              ┆         ┆              ┆              ┆             │\n",
       "│              ┆ 191106       ┆              ┆         ┆              ┆              ┆             │\n",
       "│ WO0000004122 ┆ NICOLAS      ┆ Zona Centro  ┆ Cerrado ┆ 2022-06-01   ┆ 2022-06-08   ┆ 2022-06-08  │\n",
       "│ 502          ┆ AYLLON -     ┆              ┆         ┆              ┆              ┆             │\n",
       "│              ┆ 191027       ┆              ┆         ┆              ┆              ┆             │\n",
       "│ WO0000004122 ┆ JAUREGUI -   ┆ Zona Norte   ┆ Cerrado ┆ 2022-06-01   ┆ 2022-06-18   ┆ 2022-06-18  │\n",
       "│ 513          ┆ 405005       ┆              ┆         ┆              ┆              ┆             │\n",
       "│ WO0000004122 ┆ CANTO GRANDE ┆ Zona Centro  ┆ Cerrado ┆ 2022-06-01   ┆ 2022-06-08   ┆ 2022-06-08  │\n",
       "│ 741          ┆ - 191096     ┆              ┆         ┆              ┆              ┆             │\n",
       "└──────────────┴──────────────┴──────────────┴─────────┴──────────────┴──────────────┴─────────────┘"
      ]
     },
     "execution_count": 7,
     "metadata": {},
     "output_type": "execute_result"
    }
   ],
   "source": [
    "# T1. Importando base \"Tickets Historico.txt y asignacion formato fecha\"\n",
    "historico = pl.read_csv(\n",
    "    source = './Tickets/Tickets Historico.txt',\n",
    "    separator = ';',\n",
    "    columns = ['Numero Ticket','Ubicacion','Service Desk','Estado','Fecha Creacion','Fecha Termino','Fecha Cierre'],\n",
    "    try_parse_dates = True,\n",
    "    ignore_errors = True\n",
    ")\n",
    "\n",
    "# T2. Renombrando columna 'Numero Ticket' por 'TicketID'\n",
    "historico = historico.rename({\"Numero Ticket\":\"TicketID\"})\n",
    "\n",
    "historico.head()"
   ]
  },
  {
   "cell_type": "markdown",
   "metadata": {},
   "source": [
    "### 2. Importando base \"Tickets Actual.csv\"\n",
    "Incluye las siguientes tareas:\n",
    "- Importación de data.\n",
    "- Cambio de Nombre de Columna 'Numero Ticket' por 'TicketID' y conversion de campos fecha"
   ]
  },
  {
   "cell_type": "code",
   "execution_count": 12,
   "metadata": {},
   "outputs": [
    {
     "data": {
      "text/html": [
       "<div><style>\n",
       ".dataframe > thead > tr,\n",
       ".dataframe > tbody > tr {\n",
       "  text-align: right;\n",
       "  white-space: pre-wrap;\n",
       "}\n",
       "</style>\n",
       "<small>shape: (5, 7)</small><table border=\"1\" class=\"dataframe\"><thead><tr><th>Numero Ticket</th><th>Ubicacion</th><th>Service Desk</th><th>Estado</th><th>Fecha Creacion</th><th>Fecha Termino</th><th>Fecha Cierre</th></tr><tr><td>str</td><td>str</td><td>str</td><td>str</td><td>str</td><td>str</td><td>str</td></tr></thead><tbody><tr><td>&quot;WO0000004853311&quot;</td><td>&quot;TUPAC AMARU - 191038&quot;</td><td>&quot;Zona Centro&quot;</td><td>&quot;Cerrado&quot;</td><td>&quot;2023-01-02&quot;</td><td>&quot;10/01/2023&quot;</td><td>&quot;13/01/2023&quot;</td></tr><tr><td>&quot;WO0000004852942&quot;</td><td>&quot;SAN JUAN DE LURIGANCHO - 191017&quot;</td><td>&quot;Zona Centro&quot;</td><td>&quot;Cerrado&quot;</td><td>&quot;2023-01-02&quot;</td><td>&quot;2/01/2023&quot;</td><td>&quot;5/01/2023&quot;</td></tr><tr><td>&quot;WO0000004852621&quot;</td><td>&quot;MARIANO MELGAR - 215014&quot;</td><td>&quot;Zona Norte&quot;</td><td>&quot;Cerrado&quot;</td><td>&quot;2023-01-02&quot;</td><td>&quot;6/01/2023&quot;</td><td>&quot;9/01/2023&quot;</td></tr><tr><td>&quot;SA0000004853328&quot;</td><td>&quot;ANDAHUAYLAS - 205000&quot;</td><td>&quot;Zona Norte&quot;</td><td>&quot;Cerrado&quot;</td><td>&quot;2023-01-02&quot;</td><td>&quot;7/01/2023&quot;</td><td>&quot;10/01/2023&quot;</td></tr><tr><td>&quot;SA0000004853160&quot;</td><td>&quot;COLLIQUE - 191065&quot;</td><td>&quot;Zona Centro&quot;</td><td>&quot;Cerrado&quot;</td><td>&quot;2023-01-02&quot;</td><td>&quot;4/01/2023&quot;</td><td>&quot;7/01/2023&quot;</td></tr></tbody></table></div>"
      ],
      "text/plain": [
       "shape: (5, 7)\n",
       "┌──────────────┬──────────────┬──────────────┬─────────┬──────────────┬──────────────┬─────────────┐\n",
       "│ Numero       ┆ Ubicacion    ┆ Service Desk ┆ Estado  ┆ Fecha        ┆ Fecha        ┆ Fecha       │\n",
       "│ Ticket       ┆ ---          ┆ ---          ┆ ---     ┆ Creacion     ┆ Termino      ┆ Cierre      │\n",
       "│ ---          ┆ str          ┆ str          ┆ str     ┆ ---          ┆ ---          ┆ ---         │\n",
       "│ str          ┆              ┆              ┆         ┆ str          ┆ str          ┆ str         │\n",
       "╞══════════════╪══════════════╪══════════════╪═════════╪══════════════╪══════════════╪═════════════╡\n",
       "│ WO0000004853 ┆ TUPAC AMARU  ┆ Zona Centro  ┆ Cerrado ┆ 2023-01-02   ┆ 10/01/2023   ┆ 13/01/2023  │\n",
       "│ 311          ┆ - 191038     ┆              ┆         ┆              ┆              ┆             │\n",
       "│ WO0000004852 ┆ SAN JUAN DE  ┆ Zona Centro  ┆ Cerrado ┆ 2023-01-02   ┆ 2/01/2023    ┆ 5/01/2023   │\n",
       "│ 942          ┆ LURIGANCHO - ┆              ┆         ┆              ┆              ┆             │\n",
       "│              ┆ 191017       ┆              ┆         ┆              ┆              ┆             │\n",
       "│ WO0000004852 ┆ MARIANO      ┆ Zona Norte   ┆ Cerrado ┆ 2023-01-02   ┆ 6/01/2023    ┆ 9/01/2023   │\n",
       "│ 621          ┆ MELGAR -     ┆              ┆         ┆              ┆              ┆             │\n",
       "│              ┆ 215014       ┆              ┆         ┆              ┆              ┆             │\n",
       "│ SA0000004853 ┆ ANDAHUAYLAS  ┆ Zona Norte   ┆ Cerrado ┆ 2023-01-02   ┆ 7/01/2023    ┆ 10/01/2023  │\n",
       "│ 328          ┆ - 205000     ┆              ┆         ┆              ┆              ┆             │\n",
       "│ SA0000004853 ┆ COLLIQUE -   ┆ Zona Centro  ┆ Cerrado ┆ 2023-01-02   ┆ 4/01/2023    ┆ 7/01/2023   │\n",
       "│ 160          ┆ 191065       ┆              ┆         ┆              ┆              ┆             │\n",
       "└──────────────┴──────────────┴──────────────┴─────────┴──────────────┴──────────────┴─────────────┘"
      ]
     },
     "execution_count": 12,
     "metadata": {},
     "output_type": "execute_result"
    }
   ],
   "source": [
    "# T1. Importacion de data\n",
    "actual  = pl.read_csv(\n",
    "    source = './Tickets/Tickets Actual.csv',\n",
    "    separator = '|',\n",
    "    columns = ['Numero Ticket','Ubicacion','Service Desk','Estado','Fecha Creacion','Fecha Termino','Fecha Cierre']\n",
    ")\n",
    "actual.head()"
   ]
  },
  {
   "cell_type": "code",
   "execution_count": 13,
   "metadata": {},
   "outputs": [
    {
     "data": {
      "text/html": [
       "<div><style>\n",
       ".dataframe > thead > tr,\n",
       ".dataframe > tbody > tr {\n",
       "  text-align: right;\n",
       "  white-space: pre-wrap;\n",
       "}\n",
       "</style>\n",
       "<small>shape: (5, 7)</small><table border=\"1\" class=\"dataframe\"><thead><tr><th>TicketID</th><th>Ubicacion</th><th>Service Desk</th><th>Estado</th><th>Fecha Creacion</th><th>Fecha Termino</th><th>Fecha Cierre</th></tr><tr><td>str</td><td>str</td><td>str</td><td>str</td><td>date</td><td>date</td><td>date</td></tr></thead><tbody><tr><td>&quot;WO0000004853311&quot;</td><td>&quot;TUPAC AMARU - 191038&quot;</td><td>&quot;Zona Centro&quot;</td><td>&quot;Cerrado&quot;</td><td>2023-01-02</td><td>2023-01-10</td><td>2023-01-13</td></tr><tr><td>&quot;WO0000004852942&quot;</td><td>&quot;SAN JUAN DE LURIGANCHO - 191017&quot;</td><td>&quot;Zona Centro&quot;</td><td>&quot;Cerrado&quot;</td><td>2023-01-02</td><td>2023-01-02</td><td>2023-01-05</td></tr><tr><td>&quot;WO0000004852621&quot;</td><td>&quot;MARIANO MELGAR - 215014&quot;</td><td>&quot;Zona Norte&quot;</td><td>&quot;Cerrado&quot;</td><td>2023-01-02</td><td>2023-01-06</td><td>2023-01-09</td></tr><tr><td>&quot;SA0000004853328&quot;</td><td>&quot;ANDAHUAYLAS - 205000&quot;</td><td>&quot;Zona Norte&quot;</td><td>&quot;Cerrado&quot;</td><td>2023-01-02</td><td>2023-01-07</td><td>2023-01-10</td></tr><tr><td>&quot;SA0000004853160&quot;</td><td>&quot;COLLIQUE - 191065&quot;</td><td>&quot;Zona Centro&quot;</td><td>&quot;Cerrado&quot;</td><td>2023-01-02</td><td>2023-01-04</td><td>2023-01-07</td></tr></tbody></table></div>"
      ],
      "text/plain": [
       "shape: (5, 7)\n",
       "┌──────────────┬──────────────┬──────────────┬─────────┬──────────────┬──────────────┬─────────────┐\n",
       "│ TicketID     ┆ Ubicacion    ┆ Service Desk ┆ Estado  ┆ Fecha        ┆ Fecha        ┆ Fecha       │\n",
       "│ ---          ┆ ---          ┆ ---          ┆ ---     ┆ Creacion     ┆ Termino      ┆ Cierre      │\n",
       "│ str          ┆ str          ┆ str          ┆ str     ┆ ---          ┆ ---          ┆ ---         │\n",
       "│              ┆              ┆              ┆         ┆ date         ┆ date         ┆ date        │\n",
       "╞══════════════╪══════════════╪══════════════╪═════════╪══════════════╪══════════════╪═════════════╡\n",
       "│ WO0000004853 ┆ TUPAC AMARU  ┆ Zona Centro  ┆ Cerrado ┆ 2023-01-02   ┆ 2023-01-10   ┆ 2023-01-13  │\n",
       "│ 311          ┆ - 191038     ┆              ┆         ┆              ┆              ┆             │\n",
       "│ WO0000004852 ┆ SAN JUAN DE  ┆ Zona Centro  ┆ Cerrado ┆ 2023-01-02   ┆ 2023-01-02   ┆ 2023-01-05  │\n",
       "│ 942          ┆ LURIGANCHO - ┆              ┆         ┆              ┆              ┆             │\n",
       "│              ┆ 191017       ┆              ┆         ┆              ┆              ┆             │\n",
       "│ WO0000004852 ┆ MARIANO      ┆ Zona Norte   ┆ Cerrado ┆ 2023-01-02   ┆ 2023-01-06   ┆ 2023-01-09  │\n",
       "│ 621          ┆ MELGAR -     ┆              ┆         ┆              ┆              ┆             │\n",
       "│              ┆ 215014       ┆              ┆         ┆              ┆              ┆             │\n",
       "│ SA0000004853 ┆ ANDAHUAYLAS  ┆ Zona Norte   ┆ Cerrado ┆ 2023-01-02   ┆ 2023-01-07   ┆ 2023-01-10  │\n",
       "│ 328          ┆ - 205000     ┆              ┆         ┆              ┆              ┆             │\n",
       "│ SA0000004853 ┆ COLLIQUE -   ┆ Zona Centro  ┆ Cerrado ┆ 2023-01-02   ┆ 2023-01-04   ┆ 2023-01-07  │\n",
       "│ 160          ┆ 191065       ┆              ┆         ┆              ┆              ┆             │\n",
       "└──────────────┴──────────────┴──────────────┴─────────┴──────────────┴──────────────┴─────────────┘"
      ]
     },
     "execution_count": 13,
     "metadata": {},
     "output_type": "execute_result"
    }
   ],
   "source": [
    "# T2. Cambio de nombre de columna y formato fecha\n",
    "actual = actual.select(\n",
    "    pl.col('Numero Ticket').alias(\"TicketID\"),\n",
    "    pl.col(['Ubicacion','Service Desk','Estado']),\n",
    "    pl.col('Fecha Creacion').str.to_date('%Y-%m-%d'),\n",
    "    pl.col('Fecha Termino').str.to_date('%d/%m/%Y'),\n",
    "    pl.col('Fecha Cierre').str.to_date('%d/%m/%Y')\n",
    "    \n",
    ")\n",
    "actual.head()"
   ]
  },
  {
   "cell_type": "markdown",
   "metadata": {},
   "source": [
    "### 3. Uniendo dataframe tickets historico y actual "
   ]
  },
  {
   "cell_type": "code",
   "execution_count": 18,
   "metadata": {},
   "outputs": [
    {
     "data": {
      "text/html": [
       "<div><style>\n",
       ".dataframe > thead > tr,\n",
       ".dataframe > tbody > tr {\n",
       "  text-align: right;\n",
       "  white-space: pre-wrap;\n",
       "}\n",
       "</style>\n",
       "<small>shape: (5, 7)</small><table border=\"1\" class=\"dataframe\"><thead><tr><th>TicketID</th><th>Ubicacion</th><th>Service Desk</th><th>Estado</th><th>Fecha Creacion</th><th>Fecha Termino</th><th>Fecha Cierre</th></tr><tr><td>str</td><td>str</td><td>str</td><td>str</td><td>date</td><td>date</td><td>date</td></tr></thead><tbody><tr><td>&quot;WO0000004122687&quot;</td><td>&quot;AREQUIPA - 215000&quot;</td><td>&quot;Zona Norte&quot;</td><td>&quot;Cerrado&quot;</td><td>2022-06-01</td><td>2022-06-14</td><td>2022-06-14</td></tr><tr><td>&quot;WO0000004122649&quot;</td><td>&quot;METRO AV. WIESSE - 191106&quot;</td><td>&quot;Zona Centro&quot;</td><td>&quot;Cerrado&quot;</td><td>2022-06-01</td><td>2022-06-17</td><td>2022-06-17</td></tr><tr><td>&quot;WO0000004122502&quot;</td><td>&quot;NICOLAS AYLLON - 191027&quot;</td><td>&quot;Zona Centro&quot;</td><td>&quot;Cerrado&quot;</td><td>2022-06-01</td><td>2022-06-08</td><td>2022-06-08</td></tr><tr><td>&quot;WO0000004122513&quot;</td><td>&quot;JAUREGUI - 405005&quot;</td><td>&quot;Zona Norte&quot;</td><td>&quot;Cerrado&quot;</td><td>2022-06-01</td><td>2022-06-18</td><td>2022-06-18</td></tr><tr><td>&quot;WO0000004122741&quot;</td><td>&quot;CANTO GRANDE - 191096&quot;</td><td>&quot;Zona Centro&quot;</td><td>&quot;Cerrado&quot;</td><td>2022-06-01</td><td>2022-06-08</td><td>2022-06-08</td></tr></tbody></table></div>"
      ],
      "text/plain": [
       "shape: (5, 7)\n",
       "┌──────────────┬──────────────┬──────────────┬─────────┬──────────────┬──────────────┬─────────────┐\n",
       "│ TicketID     ┆ Ubicacion    ┆ Service Desk ┆ Estado  ┆ Fecha        ┆ Fecha        ┆ Fecha       │\n",
       "│ ---          ┆ ---          ┆ ---          ┆ ---     ┆ Creacion     ┆ Termino      ┆ Cierre      │\n",
       "│ str          ┆ str          ┆ str          ┆ str     ┆ ---          ┆ ---          ┆ ---         │\n",
       "│              ┆              ┆              ┆         ┆ date         ┆ date         ┆ date        │\n",
       "╞══════════════╪══════════════╪══════════════╪═════════╪══════════════╪══════════════╪═════════════╡\n",
       "│ WO0000004122 ┆ AREQUIPA -   ┆ Zona Norte   ┆ Cerrado ┆ 2022-06-01   ┆ 2022-06-14   ┆ 2022-06-14  │\n",
       "│ 687          ┆ 215000       ┆              ┆         ┆              ┆              ┆             │\n",
       "│ WO0000004122 ┆ METRO AV.    ┆ Zona Centro  ┆ Cerrado ┆ 2022-06-01   ┆ 2022-06-17   ┆ 2022-06-17  │\n",
       "│ 649          ┆ WIESSE -     ┆              ┆         ┆              ┆              ┆             │\n",
       "│              ┆ 191106       ┆              ┆         ┆              ┆              ┆             │\n",
       "│ WO0000004122 ┆ NICOLAS      ┆ Zona Centro  ┆ Cerrado ┆ 2022-06-01   ┆ 2022-06-08   ┆ 2022-06-08  │\n",
       "│ 502          ┆ AYLLON -     ┆              ┆         ┆              ┆              ┆             │\n",
       "│              ┆ 191027       ┆              ┆         ┆              ┆              ┆             │\n",
       "│ WO0000004122 ┆ JAUREGUI -   ┆ Zona Norte   ┆ Cerrado ┆ 2022-06-01   ┆ 2022-06-18   ┆ 2022-06-18  │\n",
       "│ 513          ┆ 405005       ┆              ┆         ┆              ┆              ┆             │\n",
       "│ WO0000004122 ┆ CANTO GRANDE ┆ Zona Centro  ┆ Cerrado ┆ 2022-06-01   ┆ 2022-06-08   ┆ 2022-06-08  │\n",
       "│ 741          ┆ - 191096     ┆              ┆         ┆              ┆              ┆             │\n",
       "└──────────────┴──────────────┴──────────────┴─────────┴──────────────┴──────────────┴─────────────┘"
      ]
     },
     "execution_count": 18,
     "metadata": {},
     "output_type": "execute_result"
    }
   ],
   "source": [
    "Tickets = pl.concat([historico,actual],how='vertical')\n",
    "Tickets.head()"
   ]
  },
  {
   "cell_type": "markdown",
   "metadata": {},
   "source": [
    "### 4. Filtrando registros donde el TicketID inicia con WO\n",
    "Nota: para negar el resultado del filtro se antepone a la instrucción '~'"
   ]
  },
  {
   "cell_type": "code",
   "execution_count": 23,
   "metadata": {},
   "outputs": [
    {
     "data": {
      "text/html": [
       "<div><style>\n",
       ".dataframe > thead > tr,\n",
       ".dataframe > tbody > tr {\n",
       "  text-align: right;\n",
       "  white-space: pre-wrap;\n",
       "}\n",
       "</style>\n",
       "<small>shape: (5, 7)</small><table border=\"1\" class=\"dataframe\"><thead><tr><th>TicketID</th><th>Ubicacion</th><th>Service Desk</th><th>Estado</th><th>Fecha Creacion</th><th>Fecha Termino</th><th>Fecha Cierre</th></tr><tr><td>str</td><td>str</td><td>str</td><td>str</td><td>date</td><td>date</td><td>date</td></tr></thead><tbody><tr><td>&quot;WO0000004122687&quot;</td><td>&quot;AREQUIPA - 215000&quot;</td><td>&quot;Zona Norte&quot;</td><td>&quot;Cerrado&quot;</td><td>2022-06-01</td><td>2022-06-14</td><td>2022-06-14</td></tr><tr><td>&quot;WO0000004122649&quot;</td><td>&quot;METRO AV. WIESSE - 191106&quot;</td><td>&quot;Zona Centro&quot;</td><td>&quot;Cerrado&quot;</td><td>2022-06-01</td><td>2022-06-17</td><td>2022-06-17</td></tr><tr><td>&quot;WO0000004122502&quot;</td><td>&quot;NICOLAS AYLLON - 191027&quot;</td><td>&quot;Zona Centro&quot;</td><td>&quot;Cerrado&quot;</td><td>2022-06-01</td><td>2022-06-08</td><td>2022-06-08</td></tr><tr><td>&quot;WO0000004122513&quot;</td><td>&quot;JAUREGUI - 405005&quot;</td><td>&quot;Zona Norte&quot;</td><td>&quot;Cerrado&quot;</td><td>2022-06-01</td><td>2022-06-18</td><td>2022-06-18</td></tr><tr><td>&quot;WO0000004122741&quot;</td><td>&quot;CANTO GRANDE - 191096&quot;</td><td>&quot;Zona Centro&quot;</td><td>&quot;Cerrado&quot;</td><td>2022-06-01</td><td>2022-06-08</td><td>2022-06-08</td></tr></tbody></table></div>"
      ],
      "text/plain": [
       "shape: (5, 7)\n",
       "┌──────────────┬──────────────┬──────────────┬─────────┬──────────────┬──────────────┬─────────────┐\n",
       "│ TicketID     ┆ Ubicacion    ┆ Service Desk ┆ Estado  ┆ Fecha        ┆ Fecha        ┆ Fecha       │\n",
       "│ ---          ┆ ---          ┆ ---          ┆ ---     ┆ Creacion     ┆ Termino      ┆ Cierre      │\n",
       "│ str          ┆ str          ┆ str          ┆ str     ┆ ---          ┆ ---          ┆ ---         │\n",
       "│              ┆              ┆              ┆         ┆ date         ┆ date         ┆ date        │\n",
       "╞══════════════╪══════════════╪══════════════╪═════════╪══════════════╪══════════════╪═════════════╡\n",
       "│ WO0000004122 ┆ AREQUIPA -   ┆ Zona Norte   ┆ Cerrado ┆ 2022-06-01   ┆ 2022-06-14   ┆ 2022-06-14  │\n",
       "│ 687          ┆ 215000       ┆              ┆         ┆              ┆              ┆             │\n",
       "│ WO0000004122 ┆ METRO AV.    ┆ Zona Centro  ┆ Cerrado ┆ 2022-06-01   ┆ 2022-06-17   ┆ 2022-06-17  │\n",
       "│ 649          ┆ WIESSE -     ┆              ┆         ┆              ┆              ┆             │\n",
       "│              ┆ 191106       ┆              ┆         ┆              ┆              ┆             │\n",
       "│ WO0000004122 ┆ NICOLAS      ┆ Zona Centro  ┆ Cerrado ┆ 2022-06-01   ┆ 2022-06-08   ┆ 2022-06-08  │\n",
       "│ 502          ┆ AYLLON -     ┆              ┆         ┆              ┆              ┆             │\n",
       "│              ┆ 191027       ┆              ┆         ┆              ┆              ┆             │\n",
       "│ WO0000004122 ┆ JAUREGUI -   ┆ Zona Norte   ┆ Cerrado ┆ 2022-06-01   ┆ 2022-06-18   ┆ 2022-06-18  │\n",
       "│ 513          ┆ 405005       ┆              ┆         ┆              ┆              ┆             │\n",
       "│ WO0000004122 ┆ CANTO GRANDE ┆ Zona Centro  ┆ Cerrado ┆ 2022-06-01   ┆ 2022-06-08   ┆ 2022-06-08  │\n",
       "│ 741          ┆ - 191096     ┆              ┆         ┆              ┆              ┆             │\n",
       "└──────────────┴──────────────┴──────────────┴─────────┴──────────────┴──────────────┴─────────────┘"
      ]
     },
     "execution_count": 23,
     "metadata": {},
     "output_type": "execute_result"
    }
   ],
   "source": [
    "Tickets = Tickets.filter(\n",
    "    pl.col('TicketID').str.starts_with('WO')\n",
    ")\n",
    "Tickets.head()"
   ]
  },
  {
   "cell_type": "markdown",
   "metadata": {},
   "source": [
    "### 5. Verificando existencia de duplicados en dataframe Tickets"
   ]
  },
  {
   "cell_type": "code",
   "execution_count": 31,
   "metadata": {},
   "outputs": [
    {
     "data": {
      "text/plain": [
       "(22223, 7)"
      ]
     },
     "execution_count": 31,
     "metadata": {},
     "output_type": "execute_result"
    }
   ],
   "source": [
    "Tickets.shape"
   ]
  },
  {
   "cell_type": "code",
   "execution_count": 32,
   "metadata": {},
   "outputs": [
    {
     "data": {
      "text/plain": [
       "(22210, 7)"
      ]
     },
     "execution_count": 32,
     "metadata": {},
     "output_type": "execute_result"
    }
   ],
   "source": [
    "Tickets.unique().shape"
   ]
  },
  {
   "cell_type": "code",
   "execution_count": 37,
   "metadata": {},
   "outputs": [
    {
     "data": {
      "text/html": [
       "<div><style>\n",
       ".dataframe > thead > tr,\n",
       ".dataframe > tbody > tr {\n",
       "  text-align: right;\n",
       "  white-space: pre-wrap;\n",
       "}\n",
       "</style>\n",
       "<small>shape: (26, 7)</small><table border=\"1\" class=\"dataframe\"><thead><tr><th>TicketID</th><th>Ubicacion</th><th>Service Desk</th><th>Estado</th><th>Fecha Creacion</th><th>Fecha Termino</th><th>Fecha Cierre</th></tr><tr><td>str</td><td>str</td><td>str</td><td>str</td><td>date</td><td>date</td><td>date</td></tr></thead><tbody><tr><td>&quot;WO0000004848619&quot;</td><td>&quot;ILO - 385000&quot;</td><td>&quot;Zona Norte&quot;</td><td>&quot;Cerrado&quot;</td><td>2022-12-31</td><td>2023-01-09</td><td>2023-01-12</td></tr><tr><td>&quot;WO0000004848619&quot;</td><td>&quot;ILO - 385000&quot;</td><td>&quot;Zona Norte&quot;</td><td>&quot;Cerrado&quot;</td><td>2022-12-31</td><td>2023-01-09</td><td>2023-01-12</td></tr><tr><td>&quot;WO0000004848638&quot;</td><td>&quot;VILLA SOL - 191059&quot;</td><td>&quot;Zona Centro&quot;</td><td>&quot;Cerrado&quot;</td><td>2022-12-31</td><td>2022-12-31</td><td>2023-01-03</td></tr><tr><td>&quot;WO0000004848638&quot;</td><td>&quot;VILLA SOL - 191059&quot;</td><td>&quot;Zona Centro&quot;</td><td>&quot;Cerrado&quot;</td><td>2022-12-31</td><td>2022-12-31</td><td>2023-01-03</td></tr><tr><td>&quot;WO0000004848654&quot;</td><td>&quot;MERCADO DE FRUTAS - 191064&quot;</td><td>&quot;Zona Centro&quot;</td><td>&quot;Cerrado&quot;</td><td>2022-12-31</td><td>2023-01-13</td><td>2023-01-16</td></tr><tr><td>&hellip;</td><td>&hellip;</td><td>&hellip;</td><td>&hellip;</td><td>&hellip;</td><td>&hellip;</td><td>&hellip;</td></tr><tr><td>&quot;WO0000004849721&quot;</td><td>&quot;LUREN - 380004&quot;</td><td>&quot;Zona Sur&quot;</td><td>&quot;Cerrado&quot;</td><td>2022-12-31</td><td>2023-01-02</td><td>2023-01-05</td></tr><tr><td>&quot;WO0000004849726&quot;</td><td>&quot;LUREN - 380004&quot;</td><td>&quot;Zona Sur&quot;</td><td>&quot;Cerrado&quot;</td><td>2022-12-31</td><td>2023-01-02</td><td>2023-01-05</td></tr><tr><td>&quot;WO0000004849726&quot;</td><td>&quot;LUREN - 380004&quot;</td><td>&quot;Zona Sur&quot;</td><td>&quot;Cerrado&quot;</td><td>2022-12-31</td><td>2023-01-02</td><td>2023-01-05</td></tr><tr><td>&quot;WO0000004849732&quot;</td><td>&quot;EL PINO - 191087&quot;</td><td>&quot;Zona Centro&quot;</td><td>&quot;Cerrado&quot;</td><td>2022-12-31</td><td>2023-01-06</td><td>2023-01-09</td></tr><tr><td>&quot;WO0000004849732&quot;</td><td>&quot;EL PINO - 191087&quot;</td><td>&quot;Zona Centro&quot;</td><td>&quot;Cerrado&quot;</td><td>2022-12-31</td><td>2023-01-06</td><td>2023-01-09</td></tr></tbody></table></div>"
      ],
      "text/plain": [
       "shape: (26, 7)\n",
       "┌──────────────┬──────────────┬──────────────┬─────────┬──────────────┬──────────────┬─────────────┐\n",
       "│ TicketID     ┆ Ubicacion    ┆ Service Desk ┆ Estado  ┆ Fecha        ┆ Fecha        ┆ Fecha       │\n",
       "│ ---          ┆ ---          ┆ ---          ┆ ---     ┆ Creacion     ┆ Termino      ┆ Cierre      │\n",
       "│ str          ┆ str          ┆ str          ┆ str     ┆ ---          ┆ ---          ┆ ---         │\n",
       "│              ┆              ┆              ┆         ┆ date         ┆ date         ┆ date        │\n",
       "╞══════════════╪══════════════╪══════════════╪═════════╪══════════════╪══════════════╪═════════════╡\n",
       "│ WO0000004848 ┆ ILO - 385000 ┆ Zona Norte   ┆ Cerrado ┆ 2022-12-31   ┆ 2023-01-09   ┆ 2023-01-12  │\n",
       "│ 619          ┆              ┆              ┆         ┆              ┆              ┆             │\n",
       "│ WO0000004848 ┆ ILO - 385000 ┆ Zona Norte   ┆ Cerrado ┆ 2022-12-31   ┆ 2023-01-09   ┆ 2023-01-12  │\n",
       "│ 619          ┆              ┆              ┆         ┆              ┆              ┆             │\n",
       "│ WO0000004848 ┆ VILLA SOL -  ┆ Zona Centro  ┆ Cerrado ┆ 2022-12-31   ┆ 2022-12-31   ┆ 2023-01-03  │\n",
       "│ 638          ┆ 191059       ┆              ┆         ┆              ┆              ┆             │\n",
       "│ WO0000004848 ┆ VILLA SOL -  ┆ Zona Centro  ┆ Cerrado ┆ 2022-12-31   ┆ 2022-12-31   ┆ 2023-01-03  │\n",
       "│ 638          ┆ 191059       ┆              ┆         ┆              ┆              ┆             │\n",
       "│ WO0000004848 ┆ MERCADO DE   ┆ Zona Centro  ┆ Cerrado ┆ 2022-12-31   ┆ 2023-01-13   ┆ 2023-01-16  │\n",
       "│ 654          ┆ FRUTAS -     ┆              ┆         ┆              ┆              ┆             │\n",
       "│              ┆ 191064       ┆              ┆         ┆              ┆              ┆             │\n",
       "│ …            ┆ …            ┆ …            ┆ …       ┆ …            ┆ …            ┆ …           │\n",
       "│ WO0000004849 ┆ LUREN -      ┆ Zona Sur     ┆ Cerrado ┆ 2022-12-31   ┆ 2023-01-02   ┆ 2023-01-05  │\n",
       "│ 721          ┆ 380004       ┆              ┆         ┆              ┆              ┆             │\n",
       "│ WO0000004849 ┆ LUREN -      ┆ Zona Sur     ┆ Cerrado ┆ 2022-12-31   ┆ 2023-01-02   ┆ 2023-01-05  │\n",
       "│ 726          ┆ 380004       ┆              ┆         ┆              ┆              ┆             │\n",
       "│ WO0000004849 ┆ LUREN -      ┆ Zona Sur     ┆ Cerrado ┆ 2022-12-31   ┆ 2023-01-02   ┆ 2023-01-05  │\n",
       "│ 726          ┆ 380004       ┆              ┆         ┆              ┆              ┆             │\n",
       "│ WO0000004849 ┆ EL PINO -    ┆ Zona Centro  ┆ Cerrado ┆ 2022-12-31   ┆ 2023-01-06   ┆ 2023-01-09  │\n",
       "│ 732          ┆ 191087       ┆              ┆         ┆              ┆              ┆             │\n",
       "│ WO0000004849 ┆ EL PINO -    ┆ Zona Centro  ┆ Cerrado ┆ 2022-12-31   ┆ 2023-01-06   ┆ 2023-01-09  │\n",
       "│ 732          ┆ 191087       ┆              ┆         ┆              ┆              ┆             │\n",
       "└──────────────┴──────────────┴──────────────┴─────────┴──────────────┴──────────────┴─────────────┘"
      ]
     },
     "execution_count": 37,
     "metadata": {},
     "output_type": "execute_result"
    }
   ],
   "source": [
    "# Mostrando valores duplicados\n",
    "Tickets.filter(\n",
    "    pl.col('TicketID').is_duplicated()\n",
    ").sort(by = 'TicketID')\n"
   ]
  },
  {
   "cell_type": "code",
   "execution_count": 38,
   "metadata": {},
   "outputs": [
    {
     "data": {
      "text/plain": [
       "(22210, 7)"
      ]
     },
     "execution_count": 38,
     "metadata": {},
     "output_type": "execute_result"
    }
   ],
   "source": [
    "# Elimnando valores duplicados manteniento los registros con la fecha de creacion actual\n",
    "Tickets = Tickets.sort(\n",
    "    by = ['TicketID', 'Fecha Creacion']\n",
    ").unique(\n",
    "    subset = 'TicketID',\n",
    "    keep = 'last',\n",
    "    maintain_order = True \n",
    ")\n",
    "Tickets.shape"
   ]
  },
  {
   "cell_type": "markdown",
   "metadata": {},
   "source": [
    "### 6. Dividiendo la columna Ubicacion en Agencia y AgenciaID"
   ]
  },
  {
   "cell_type": "code",
   "execution_count": 39,
   "metadata": {},
   "outputs": [
    {
     "data": {
      "text/html": [
       "<div><style>\n",
       ".dataframe > thead > tr,\n",
       ".dataframe > tbody > tr {\n",
       "  text-align: right;\n",
       "  white-space: pre-wrap;\n",
       "}\n",
       "</style>\n",
       "<small>shape: (5, 7)</small><table border=\"1\" class=\"dataframe\"><thead><tr><th>TicketID</th><th>Ubicacion</th><th>Service Desk</th><th>Estado</th><th>Fecha Creacion</th><th>Fecha Termino</th><th>Fecha Cierre</th></tr><tr><td>str</td><td>str</td><td>str</td><td>str</td><td>date</td><td>date</td><td>date</td></tr></thead><tbody><tr><td>&quot;WO0000004122302&quot;</td><td>&quot;IMPERIAL - 255001&quot;</td><td>&quot;Zona Norte&quot;</td><td>&quot;Cerrado&quot;</td><td>2022-06-01</td><td>2022-06-10</td><td>2022-06-10</td></tr><tr><td>&quot;WO0000004122303&quot;</td><td>&quot;IMPERIAL - 255001&quot;</td><td>&quot;Zona Norte&quot;</td><td>&quot;Cerrado&quot;</td><td>2022-06-01</td><td>2022-06-17</td><td>2022-06-17</td></tr><tr><td>&quot;WO0000004122353&quot;</td><td>&quot;PLAZA UNION - 191062&quot;</td><td>&quot;Zona Centro&quot;</td><td>&quot;Cerrado&quot;</td><td>2022-06-01</td><td>2022-06-05</td><td>2022-06-05</td></tr><tr><td>&quot;WO0000004122360&quot;</td><td>&quot;AREQUIPA - 215000&quot;</td><td>&quot;Zona Norte&quot;</td><td>&quot;Cerrado&quot;</td><td>2022-06-01</td><td>2022-06-13</td><td>2022-06-13</td></tr><tr><td>&quot;WO0000004122387&quot;</td><td>&quot;PLAZA LIMA NORTE - 191058&quot;</td><td>&quot;Zona Centro&quot;</td><td>&quot;Rechazado&quot;</td><td>2022-06-01</td><td>2022-06-06</td><td>null</td></tr></tbody></table></div>"
      ],
      "text/plain": [
       "shape: (5, 7)\n",
       "┌──────────────┬──────────────┬──────────────┬───────────┬─────────────┬─────────────┬─────────────┐\n",
       "│ TicketID     ┆ Ubicacion    ┆ Service Desk ┆ Estado    ┆ Fecha       ┆ Fecha       ┆ Fecha       │\n",
       "│ ---          ┆ ---          ┆ ---          ┆ ---       ┆ Creacion    ┆ Termino     ┆ Cierre      │\n",
       "│ str          ┆ str          ┆ str          ┆ str       ┆ ---         ┆ ---         ┆ ---         │\n",
       "│              ┆              ┆              ┆           ┆ date        ┆ date        ┆ date        │\n",
       "╞══════════════╪══════════════╪══════════════╪═══════════╪═════════════╪═════════════╪═════════════╡\n",
       "│ WO0000004122 ┆ IMPERIAL -   ┆ Zona Norte   ┆ Cerrado   ┆ 2022-06-01  ┆ 2022-06-10  ┆ 2022-06-10  │\n",
       "│ 302          ┆ 255001       ┆              ┆           ┆             ┆             ┆             │\n",
       "│ WO0000004122 ┆ IMPERIAL -   ┆ Zona Norte   ┆ Cerrado   ┆ 2022-06-01  ┆ 2022-06-17  ┆ 2022-06-17  │\n",
       "│ 303          ┆ 255001       ┆              ┆           ┆             ┆             ┆             │\n",
       "│ WO0000004122 ┆ PLAZA UNION  ┆ Zona Centro  ┆ Cerrado   ┆ 2022-06-01  ┆ 2022-06-05  ┆ 2022-06-05  │\n",
       "│ 353          ┆ - 191062     ┆              ┆           ┆             ┆             ┆             │\n",
       "│ WO0000004122 ┆ AREQUIPA -   ┆ Zona Norte   ┆ Cerrado   ┆ 2022-06-01  ┆ 2022-06-13  ┆ 2022-06-13  │\n",
       "│ 360          ┆ 215000       ┆              ┆           ┆             ┆             ┆             │\n",
       "│ WO0000004122 ┆ PLAZA LIMA   ┆ Zona Centro  ┆ Rechazado ┆ 2022-06-01  ┆ 2022-06-06  ┆ null        │\n",
       "│ 387          ┆ NORTE -      ┆              ┆           ┆             ┆             ┆             │\n",
       "│              ┆ 191058       ┆              ┆           ┆             ┆             ┆             │\n",
       "└──────────────┴──────────────┴──────────────┴───────────┴─────────────┴─────────────┴─────────────┘"
      ]
     },
     "execution_count": 39,
     "metadata": {},
     "output_type": "execute_result"
    }
   ],
   "source": [
    "Tickets.head()"
   ]
  },
  {
   "cell_type": "code",
   "execution_count": 40,
   "metadata": {},
   "outputs": [
    {
     "data": {
      "text/html": [
       "<div><style>\n",
       ".dataframe > thead > tr,\n",
       ".dataframe > tbody > tr {\n",
       "  text-align: right;\n",
       "  white-space: pre-wrap;\n",
       "}\n",
       "</style>\n",
       "<small>shape: (5, 8)</small><table border=\"1\" class=\"dataframe\"><thead><tr><th>TicketID</th><th>Agencia</th><th>AgenciaID</th><th>Service Desk</th><th>Estado</th><th>Fecha Creacion</th><th>Fecha Termino</th><th>Fecha Cierre</th></tr><tr><td>str</td><td>str</td><td>i64</td><td>str</td><td>str</td><td>date</td><td>date</td><td>date</td></tr></thead><tbody><tr><td>&quot;WO0000004122302&quot;</td><td>&quot;IMPERIAL&quot;</td><td>255001</td><td>&quot;Zona Norte&quot;</td><td>&quot;Cerrado&quot;</td><td>2022-06-01</td><td>2022-06-10</td><td>2022-06-10</td></tr><tr><td>&quot;WO0000004122303&quot;</td><td>&quot;IMPERIAL&quot;</td><td>255001</td><td>&quot;Zona Norte&quot;</td><td>&quot;Cerrado&quot;</td><td>2022-06-01</td><td>2022-06-17</td><td>2022-06-17</td></tr><tr><td>&quot;WO0000004122353&quot;</td><td>&quot;PLAZA UNION&quot;</td><td>191062</td><td>&quot;Zona Centro&quot;</td><td>&quot;Cerrado&quot;</td><td>2022-06-01</td><td>2022-06-05</td><td>2022-06-05</td></tr><tr><td>&quot;WO0000004122360&quot;</td><td>&quot;AREQUIPA&quot;</td><td>215000</td><td>&quot;Zona Norte&quot;</td><td>&quot;Cerrado&quot;</td><td>2022-06-01</td><td>2022-06-13</td><td>2022-06-13</td></tr><tr><td>&quot;WO0000004122387&quot;</td><td>&quot;PLAZA LIMA NORTE&quot;</td><td>191058</td><td>&quot;Zona Centro&quot;</td><td>&quot;Rechazado&quot;</td><td>2022-06-01</td><td>2022-06-06</td><td>null</td></tr></tbody></table></div>"
      ],
      "text/plain": [
       "shape: (5, 8)\n",
       "┌────────────┬────────────┬───────────┬────────────┬───────────┬───────────┬───────────┬───────────┐\n",
       "│ TicketID   ┆ Agencia    ┆ AgenciaID ┆ Service    ┆ Estado    ┆ Fecha     ┆ Fecha     ┆ Fecha     │\n",
       "│ ---        ┆ ---        ┆ ---       ┆ Desk       ┆ ---       ┆ Creacion  ┆ Termino   ┆ Cierre    │\n",
       "│ str        ┆ str        ┆ i64       ┆ ---        ┆ str       ┆ ---       ┆ ---       ┆ ---       │\n",
       "│            ┆            ┆           ┆ str        ┆           ┆ date      ┆ date      ┆ date      │\n",
       "╞════════════╪════════════╪═══════════╪════════════╪═══════════╪═══════════╪═══════════╪═══════════╡\n",
       "│ WO00000041 ┆ IMPERIAL   ┆ 255001    ┆ Zona Norte ┆ Cerrado   ┆ 2022-06-0 ┆ 2022-06-1 ┆ 2022-06-1 │\n",
       "│ 22302      ┆            ┆           ┆            ┆           ┆ 1         ┆ 0         ┆ 0         │\n",
       "│ WO00000041 ┆ IMPERIAL   ┆ 255001    ┆ Zona Norte ┆ Cerrado   ┆ 2022-06-0 ┆ 2022-06-1 ┆ 2022-06-1 │\n",
       "│ 22303      ┆            ┆           ┆            ┆           ┆ 1         ┆ 7         ┆ 7         │\n",
       "│ WO00000041 ┆ PLAZA      ┆ 191062    ┆ Zona       ┆ Cerrado   ┆ 2022-06-0 ┆ 2022-06-0 ┆ 2022-06-0 │\n",
       "│ 22353      ┆ UNION      ┆           ┆ Centro     ┆           ┆ 1         ┆ 5         ┆ 5         │\n",
       "│ WO00000041 ┆ AREQUIPA   ┆ 215000    ┆ Zona Norte ┆ Cerrado   ┆ 2022-06-0 ┆ 2022-06-1 ┆ 2022-06-1 │\n",
       "│ 22360      ┆            ┆           ┆            ┆           ┆ 1         ┆ 3         ┆ 3         │\n",
       "│ WO00000041 ┆ PLAZA LIMA ┆ 191058    ┆ Zona       ┆ Rechazado ┆ 2022-06-0 ┆ 2022-06-0 ┆ null      │\n",
       "│ 22387      ┆ NORTE      ┆           ┆ Centro     ┆           ┆ 1         ┆ 6         ┆           │\n",
       "└────────────┴────────────┴───────────┴────────────┴───────────┴───────────┴───────────┴───────────┘"
      ]
     },
     "execution_count": 40,
     "metadata": {},
     "output_type": "execute_result"
    }
   ],
   "source": [
    "Tickets = Tickets.with_columns(\n",
    "    pl.col('Ubicacion').str.split_exact(' - ',1)\n",
    "    .struct.rename_fields(['Agencia', 'AgenciaID'])\n",
    ").unnest('Ubicacion').cast({\"AgenciaID\":pl.Int64})#asignando tipo de dato entero a AgenciaID\n",
    "\n",
    "Tickets.head()"
   ]
  },
  {
   "cell_type": "markdown",
   "metadata": {},
   "source": [
    "### 7. Creando la columna 'Fecha Real Fin'\n",
    "Considerando:\n",
    "- SI [Fecha Termino] es nulo ENTONCES [Fecha Real Fin] =  [Fecha Cierre] \n",
    "- SINO [Fecha Real Fin] = [Fecha Termino]"
   ]
  },
  {
   "cell_type": "code",
   "execution_count": 41,
   "metadata": {},
   "outputs": [
    {
     "data": {
      "text/html": [
       "<div><style>\n",
       ".dataframe > thead > tr,\n",
       ".dataframe > tbody > tr {\n",
       "  text-align: right;\n",
       "  white-space: pre-wrap;\n",
       "}\n",
       "</style>\n",
       "<small>shape: (5, 9)</small><table border=\"1\" class=\"dataframe\"><thead><tr><th>TicketID</th><th>Agencia</th><th>AgenciaID</th><th>Service Desk</th><th>Estado</th><th>Fecha Creacion</th><th>Fecha Termino</th><th>Fecha Cierre</th><th>Fecha Real Fin</th></tr><tr><td>str</td><td>str</td><td>i64</td><td>str</td><td>str</td><td>date</td><td>date</td><td>date</td><td>date</td></tr></thead><tbody><tr><td>&quot;WO0000004122302&quot;</td><td>&quot;IMPERIAL&quot;</td><td>255001</td><td>&quot;Zona Norte&quot;</td><td>&quot;Cerrado&quot;</td><td>2022-06-01</td><td>2022-06-10</td><td>2022-06-10</td><td>2022-06-10</td></tr><tr><td>&quot;WO0000004122303&quot;</td><td>&quot;IMPERIAL&quot;</td><td>255001</td><td>&quot;Zona Norte&quot;</td><td>&quot;Cerrado&quot;</td><td>2022-06-01</td><td>2022-06-17</td><td>2022-06-17</td><td>2022-06-17</td></tr><tr><td>&quot;WO0000004122353&quot;</td><td>&quot;PLAZA UNION&quot;</td><td>191062</td><td>&quot;Zona Centro&quot;</td><td>&quot;Cerrado&quot;</td><td>2022-06-01</td><td>2022-06-05</td><td>2022-06-05</td><td>2022-06-05</td></tr><tr><td>&quot;WO0000004122360&quot;</td><td>&quot;AREQUIPA&quot;</td><td>215000</td><td>&quot;Zona Norte&quot;</td><td>&quot;Cerrado&quot;</td><td>2022-06-01</td><td>2022-06-13</td><td>2022-06-13</td><td>2022-06-13</td></tr><tr><td>&quot;WO0000004122387&quot;</td><td>&quot;PLAZA LIMA NORTE&quot;</td><td>191058</td><td>&quot;Zona Centro&quot;</td><td>&quot;Rechazado&quot;</td><td>2022-06-01</td><td>2022-06-06</td><td>null</td><td>2022-06-06</td></tr></tbody></table></div>"
      ],
      "text/plain": [
       "shape: (5, 9)\n",
       "┌───────────┬───────────┬───────────┬───────────┬───┬───────────┬───────────┬───────────┬──────────┐\n",
       "│ TicketID  ┆ Agencia   ┆ AgenciaID ┆ Service   ┆ … ┆ Fecha     ┆ Fecha     ┆ Fecha     ┆ Fecha    │\n",
       "│ ---       ┆ ---       ┆ ---       ┆ Desk      ┆   ┆ Creacion  ┆ Termino   ┆ Cierre    ┆ Real Fin │\n",
       "│ str       ┆ str       ┆ i64       ┆ ---       ┆   ┆ ---       ┆ ---       ┆ ---       ┆ ---      │\n",
       "│           ┆           ┆           ┆ str       ┆   ┆ date      ┆ date      ┆ date      ┆ date     │\n",
       "╞═══════════╪═══════════╪═══════════╪═══════════╪═══╪═══════════╪═══════════╪═══════════╪══════════╡\n",
       "│ WO0000004 ┆ IMPERIAL  ┆ 255001    ┆ Zona      ┆ … ┆ 2022-06-0 ┆ 2022-06-1 ┆ 2022-06-1 ┆ 2022-06- │\n",
       "│ 122302    ┆           ┆           ┆ Norte     ┆   ┆ 1         ┆ 0         ┆ 0         ┆ 10       │\n",
       "│ WO0000004 ┆ IMPERIAL  ┆ 255001    ┆ Zona      ┆ … ┆ 2022-06-0 ┆ 2022-06-1 ┆ 2022-06-1 ┆ 2022-06- │\n",
       "│ 122303    ┆           ┆           ┆ Norte     ┆   ┆ 1         ┆ 7         ┆ 7         ┆ 17       │\n",
       "│ WO0000004 ┆ PLAZA     ┆ 191062    ┆ Zona      ┆ … ┆ 2022-06-0 ┆ 2022-06-0 ┆ 2022-06-0 ┆ 2022-06- │\n",
       "│ 122353    ┆ UNION     ┆           ┆ Centro    ┆   ┆ 1         ┆ 5         ┆ 5         ┆ 05       │\n",
       "│ WO0000004 ┆ AREQUIPA  ┆ 215000    ┆ Zona      ┆ … ┆ 2022-06-0 ┆ 2022-06-1 ┆ 2022-06-1 ┆ 2022-06- │\n",
       "│ 122360    ┆           ┆           ┆ Norte     ┆   ┆ 1         ┆ 3         ┆ 3         ┆ 13       │\n",
       "│ WO0000004 ┆ PLAZA     ┆ 191058    ┆ Zona      ┆ … ┆ 2022-06-0 ┆ 2022-06-0 ┆ null      ┆ 2022-06- │\n",
       "│ 122387    ┆ LIMA      ┆           ┆ Centro    ┆   ┆ 1         ┆ 6         ┆           ┆ 06       │\n",
       "│           ┆ NORTE     ┆           ┆           ┆   ┆           ┆           ┆           ┆          │\n",
       "└───────────┴───────────┴───────────┴───────────┴───┴───────────┴───────────┴───────────┴──────────┘"
      ]
     },
     "execution_count": 41,
     "metadata": {},
     "output_type": "execute_result"
    }
   ],
   "source": [
    "Tickets = Tickets.with_columns(\n",
    "    pl.coalesce(['Fecha Termino','Fecha Cierre']).alias('Fecha Real Fin')\n",
    ")\n",
    "Tickets.head()"
   ]
  },
  {
   "cell_type": "markdown",
   "metadata": {},
   "source": [
    "### 8. Creando columna [Dias Cierre]\n",
    "Nota: la cual es la diferencia en días entre la [Fecha Real Fin] y [Fecha Creacion]."
   ]
  },
  {
   "cell_type": "code",
   "execution_count": 44,
   "metadata": {},
   "outputs": [
    {
     "data": {
      "text/html": [
       "<div><style>\n",
       ".dataframe > thead > tr,\n",
       ".dataframe > tbody > tr {\n",
       "  text-align: right;\n",
       "  white-space: pre-wrap;\n",
       "}\n",
       "</style>\n",
       "<small>shape: (5, 10)</small><table border=\"1\" class=\"dataframe\"><thead><tr><th>TicketID</th><th>Agencia</th><th>AgenciaID</th><th>Service Desk</th><th>Estado</th><th>Fecha Creacion</th><th>Fecha Termino</th><th>Fecha Cierre</th><th>Fecha Real Fin</th><th>Dias Cierre</th></tr><tr><td>str</td><td>str</td><td>i64</td><td>str</td><td>str</td><td>date</td><td>date</td><td>date</td><td>date</td><td>i64</td></tr></thead><tbody><tr><td>&quot;WO0000004122302&quot;</td><td>&quot;IMPERIAL&quot;</td><td>255001</td><td>&quot;Zona Norte&quot;</td><td>&quot;Cerrado&quot;</td><td>2022-06-01</td><td>2022-06-10</td><td>2022-06-10</td><td>2022-06-10</td><td>9</td></tr><tr><td>&quot;WO0000004122303&quot;</td><td>&quot;IMPERIAL&quot;</td><td>255001</td><td>&quot;Zona Norte&quot;</td><td>&quot;Cerrado&quot;</td><td>2022-06-01</td><td>2022-06-17</td><td>2022-06-17</td><td>2022-06-17</td><td>16</td></tr><tr><td>&quot;WO0000004122353&quot;</td><td>&quot;PLAZA UNION&quot;</td><td>191062</td><td>&quot;Zona Centro&quot;</td><td>&quot;Cerrado&quot;</td><td>2022-06-01</td><td>2022-06-05</td><td>2022-06-05</td><td>2022-06-05</td><td>4</td></tr><tr><td>&quot;WO0000004122360&quot;</td><td>&quot;AREQUIPA&quot;</td><td>215000</td><td>&quot;Zona Norte&quot;</td><td>&quot;Cerrado&quot;</td><td>2022-06-01</td><td>2022-06-13</td><td>2022-06-13</td><td>2022-06-13</td><td>12</td></tr><tr><td>&quot;WO0000004122387&quot;</td><td>&quot;PLAZA LIMA NORTE&quot;</td><td>191058</td><td>&quot;Zona Centro&quot;</td><td>&quot;Rechazado&quot;</td><td>2022-06-01</td><td>2022-06-06</td><td>null</td><td>2022-06-06</td><td>5</td></tr></tbody></table></div>"
      ],
      "text/plain": [
       "shape: (5, 10)\n",
       "┌───────────┬───────────┬───────────┬───────────┬───┬───────────┬───────────┬───────────┬──────────┐\n",
       "│ TicketID  ┆ Agencia   ┆ AgenciaID ┆ Service   ┆ … ┆ Fecha     ┆ Fecha     ┆ Fecha     ┆ Dias     │\n",
       "│ ---       ┆ ---       ┆ ---       ┆ Desk      ┆   ┆ Termino   ┆ Cierre    ┆ Real Fin  ┆ Cierre   │\n",
       "│ str       ┆ str       ┆ i64       ┆ ---       ┆   ┆ ---       ┆ ---       ┆ ---       ┆ ---      │\n",
       "│           ┆           ┆           ┆ str       ┆   ┆ date      ┆ date      ┆ date      ┆ i64      │\n",
       "╞═══════════╪═══════════╪═══════════╪═══════════╪═══╪═══════════╪═══════════╪═══════════╪══════════╡\n",
       "│ WO0000004 ┆ IMPERIAL  ┆ 255001    ┆ Zona      ┆ … ┆ 2022-06-1 ┆ 2022-06-1 ┆ 2022-06-1 ┆ 9        │\n",
       "│ 122302    ┆           ┆           ┆ Norte     ┆   ┆ 0         ┆ 0         ┆ 0         ┆          │\n",
       "│ WO0000004 ┆ IMPERIAL  ┆ 255001    ┆ Zona      ┆ … ┆ 2022-06-1 ┆ 2022-06-1 ┆ 2022-06-1 ┆ 16       │\n",
       "│ 122303    ┆           ┆           ┆ Norte     ┆   ┆ 7         ┆ 7         ┆ 7         ┆          │\n",
       "│ WO0000004 ┆ PLAZA     ┆ 191062    ┆ Zona      ┆ … ┆ 2022-06-0 ┆ 2022-06-0 ┆ 2022-06-0 ┆ 4        │\n",
       "│ 122353    ┆ UNION     ┆           ┆ Centro    ┆   ┆ 5         ┆ 5         ┆ 5         ┆          │\n",
       "│ WO0000004 ┆ AREQUIPA  ┆ 215000    ┆ Zona      ┆ … ┆ 2022-06-1 ┆ 2022-06-1 ┆ 2022-06-1 ┆ 12       │\n",
       "│ 122360    ┆           ┆           ┆ Norte     ┆   ┆ 3         ┆ 3         ┆ 3         ┆          │\n",
       "│ WO0000004 ┆ PLAZA     ┆ 191058    ┆ Zona      ┆ … ┆ 2022-06-0 ┆ null      ┆ 2022-06-0 ┆ 5        │\n",
       "│ 122387    ┆ LIMA      ┆           ┆ Centro    ┆   ┆ 6         ┆           ┆ 6         ┆          │\n",
       "│           ┆ NORTE     ┆           ┆           ┆   ┆           ┆           ┆           ┆          │\n",
       "└───────────┴───────────┴───────────┴───────────┴───┴───────────┴───────────┴───────────┴──────────┘"
      ]
     },
     "execution_count": 44,
     "metadata": {},
     "output_type": "execute_result"
    }
   ],
   "source": [
    "Tickets = Tickets.with_columns(\n",
    "    (pl.col('Fecha Real Fin')- pl.col('Fecha Creacion')).dt.total_days().alias('Dias Cierre')\n",
    ")\n",
    "Tickets.head()"
   ]
  },
  {
   "cell_type": "markdown",
   "metadata": {},
   "source": [
    "### 9. Creando la columna [Grupo Dias]\n",
    "considerando:\n",
    "- SI [Dias Cierre] es nulo ENTONCES Nulo \n",
    "- SI [Dias Cierre] <= 3 ENTONCES “0 a 3 días” \n",
    "- SI [Dias Cierre] <= 7 ENTONCES “4 a 7 días” \n",
    "- SI [Dias Cierre] <= 15 ENTONCES “8 a 15 días”  \n",
    "- SI [Dias Cierre] > 15 ENTONCES “+15 días” "
   ]
  },
  {
   "cell_type": "code",
   "execution_count": 45,
   "metadata": {},
   "outputs": [
    {
     "data": {
      "text/html": [
       "<div><style>\n",
       ".dataframe > thead > tr,\n",
       ".dataframe > tbody > tr {\n",
       "  text-align: right;\n",
       "  white-space: pre-wrap;\n",
       "}\n",
       "</style>\n",
       "<small>shape: (5, 11)</small><table border=\"1\" class=\"dataframe\"><thead><tr><th>TicketID</th><th>Agencia</th><th>AgenciaID</th><th>Service Desk</th><th>Estado</th><th>Fecha Creacion</th><th>Fecha Termino</th><th>Fecha Cierre</th><th>Fecha Real Fin</th><th>Dias Cierre</th><th>Grupo Dias</th></tr><tr><td>str</td><td>str</td><td>i64</td><td>str</td><td>str</td><td>date</td><td>date</td><td>date</td><td>date</td><td>i64</td><td>str</td></tr></thead><tbody><tr><td>&quot;WO0000004122302&quot;</td><td>&quot;IMPERIAL&quot;</td><td>255001</td><td>&quot;Zona Norte&quot;</td><td>&quot;Cerrado&quot;</td><td>2022-06-01</td><td>2022-06-10</td><td>2022-06-10</td><td>2022-06-10</td><td>9</td><td>&quot;7 a 15 dias&quot;</td></tr><tr><td>&quot;WO0000004122303&quot;</td><td>&quot;IMPERIAL&quot;</td><td>255001</td><td>&quot;Zona Norte&quot;</td><td>&quot;Cerrado&quot;</td><td>2022-06-01</td><td>2022-06-17</td><td>2022-06-17</td><td>2022-06-17</td><td>16</td><td>&quot;+ de 15 dias&quot;</td></tr><tr><td>&quot;WO0000004122353&quot;</td><td>&quot;PLAZA UNION&quot;</td><td>191062</td><td>&quot;Zona Centro&quot;</td><td>&quot;Cerrado&quot;</td><td>2022-06-01</td><td>2022-06-05</td><td>2022-06-05</td><td>2022-06-05</td><td>4</td><td>&quot;3 a 7 dias&quot;</td></tr><tr><td>&quot;WO0000004122360&quot;</td><td>&quot;AREQUIPA&quot;</td><td>215000</td><td>&quot;Zona Norte&quot;</td><td>&quot;Cerrado&quot;</td><td>2022-06-01</td><td>2022-06-13</td><td>2022-06-13</td><td>2022-06-13</td><td>12</td><td>&quot;7 a 15 dias&quot;</td></tr><tr><td>&quot;WO0000004122387&quot;</td><td>&quot;PLAZA LIMA NORTE&quot;</td><td>191058</td><td>&quot;Zona Centro&quot;</td><td>&quot;Rechazado&quot;</td><td>2022-06-01</td><td>2022-06-06</td><td>null</td><td>2022-06-06</td><td>5</td><td>&quot;3 a 7 dias&quot;</td></tr></tbody></table></div>"
      ],
      "text/plain": [
       "shape: (5, 11)\n",
       "┌───────────┬───────────┬───────────┬───────────┬───┬───────────┬───────────┬───────────┬──────────┐\n",
       "│ TicketID  ┆ Agencia   ┆ AgenciaID ┆ Service   ┆ … ┆ Fecha     ┆ Fecha     ┆ Dias      ┆ Grupo    │\n",
       "│ ---       ┆ ---       ┆ ---       ┆ Desk      ┆   ┆ Cierre    ┆ Real Fin  ┆ Cierre    ┆ Dias     │\n",
       "│ str       ┆ str       ┆ i64       ┆ ---       ┆   ┆ ---       ┆ ---       ┆ ---       ┆ ---      │\n",
       "│           ┆           ┆           ┆ str       ┆   ┆ date      ┆ date      ┆ i64       ┆ str      │\n",
       "╞═══════════╪═══════════╪═══════════╪═══════════╪═══╪═══════════╪═══════════╪═══════════╪══════════╡\n",
       "│ WO0000004 ┆ IMPERIAL  ┆ 255001    ┆ Zona      ┆ … ┆ 2022-06-1 ┆ 2022-06-1 ┆ 9         ┆ 7 a 15   │\n",
       "│ 122302    ┆           ┆           ┆ Norte     ┆   ┆ 0         ┆ 0         ┆           ┆ dias     │\n",
       "│ WO0000004 ┆ IMPERIAL  ┆ 255001    ┆ Zona      ┆ … ┆ 2022-06-1 ┆ 2022-06-1 ┆ 16        ┆ + de 15  │\n",
       "│ 122303    ┆           ┆           ┆ Norte     ┆   ┆ 7         ┆ 7         ┆           ┆ dias     │\n",
       "│ WO0000004 ┆ PLAZA     ┆ 191062    ┆ Zona      ┆ … ┆ 2022-06-0 ┆ 2022-06-0 ┆ 4         ┆ 3 a 7    │\n",
       "│ 122353    ┆ UNION     ┆           ┆ Centro    ┆   ┆ 5         ┆ 5         ┆           ┆ dias     │\n",
       "│ WO0000004 ┆ AREQUIPA  ┆ 215000    ┆ Zona      ┆ … ┆ 2022-06-1 ┆ 2022-06-1 ┆ 12        ┆ 7 a 15   │\n",
       "│ 122360    ┆           ┆           ┆ Norte     ┆   ┆ 3         ┆ 3         ┆           ┆ dias     │\n",
       "│ WO0000004 ┆ PLAZA     ┆ 191058    ┆ Zona      ┆ … ┆ null      ┆ 2022-06-0 ┆ 5         ┆ 3 a 7    │\n",
       "│ 122387    ┆ LIMA      ┆           ┆ Centro    ┆   ┆           ┆ 6         ┆           ┆ dias     │\n",
       "│           ┆ NORTE     ┆           ┆           ┆   ┆           ┆           ┆           ┆          │\n",
       "└───────────┴───────────┴───────────┴───────────┴───┴───────────┴───────────┴───────────┴──────────┘"
      ]
     },
     "execution_count": 45,
     "metadata": {},
     "output_type": "execute_result"
    }
   ],
   "source": [
    "Tickets = Tickets.with_columns(\n",
    "    pl.when(pl.col('Dias Cierre').is_null()).then(None)\n",
    "    .when(pl.col('Dias Cierre')<3).then(pl.lit('0 a 3 dias'))\n",
    "    .when(pl.col('Dias Cierre')<7).then(pl.lit('3 a 7 dias'))\n",
    "    .when(pl.col('Dias Cierre')<15).then(pl.lit('7 a 15 dias'))\n",
    "    .otherwise(pl.lit('+ de 15 dias'))\n",
    "    .alias('Grupo Dias')\n",
    ")\n",
    "\n",
    "Tickets.head()"
   ]
  }
 ],
 "metadata": {
  "kernelspec": {
   "display_name": "vEdcion3",
   "language": "python",
   "name": "vedcion3"
  },
  "language_info": {
   "codemirror_mode": {
    "name": "ipython",
    "version": 3
   },
   "file_extension": ".py",
   "mimetype": "text/x-python",
   "name": "python",
   "nbconvert_exporter": "python",
   "pygments_lexer": "ipython3",
   "version": "3.12.3"
  }
 },
 "nbformat": 4,
 "nbformat_minor": 2
}
